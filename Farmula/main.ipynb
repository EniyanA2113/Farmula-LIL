{
 "cells": [
  {
   "cell_type": "code",
   "execution_count": 1,
   "metadata": {},
   "outputs": [],
   "source": [
    "import pandas as pd\n",
    "import numpy as np\n",
    "\n",
    "db = pd.read_csv(\"cpdata.csv\")"
   ]
  },
  {
   "cell_type": "code",
   "execution_count": 2,
   "metadata": {},
   "outputs": [
    {
     "data": {
      "text/html": [
       "<div>\n",
       "<style scoped>\n",
       "    .dataframe tbody tr th:only-of-type {\n",
       "        vertical-align: middle;\n",
       "    }\n",
       "\n",
       "    .dataframe tbody tr th {\n",
       "        vertical-align: top;\n",
       "    }\n",
       "\n",
       "    .dataframe thead th {\n",
       "        text-align: right;\n",
       "    }\n",
       "</style>\n",
       "<table border=\"1\" class=\"dataframe\">\n",
       "  <thead>\n",
       "    <tr style=\"text-align: right;\">\n",
       "      <th></th>\n",
       "      <th>temperature</th>\n",
       "      <th>humidity</th>\n",
       "      <th>ph</th>\n",
       "      <th>rainfall</th>\n",
       "      <th>label</th>\n",
       "    </tr>\n",
       "  </thead>\n",
       "  <tbody>\n",
       "    <tr>\n",
       "      <th>0</th>\n",
       "      <td>20.879744</td>\n",
       "      <td>82.002744</td>\n",
       "      <td>6.502985</td>\n",
       "      <td>202.935536</td>\n",
       "      <td>rice</td>\n",
       "    </tr>\n",
       "    <tr>\n",
       "      <th>1</th>\n",
       "      <td>21.770462</td>\n",
       "      <td>80.319644</td>\n",
       "      <td>7.038096</td>\n",
       "      <td>226.655537</td>\n",
       "      <td>rice</td>\n",
       "    </tr>\n",
       "    <tr>\n",
       "      <th>2</th>\n",
       "      <td>23.004459</td>\n",
       "      <td>82.320763</td>\n",
       "      <td>7.840207</td>\n",
       "      <td>263.964248</td>\n",
       "      <td>rice</td>\n",
       "    </tr>\n",
       "    <tr>\n",
       "      <th>3</th>\n",
       "      <td>26.491096</td>\n",
       "      <td>80.158363</td>\n",
       "      <td>6.980401</td>\n",
       "      <td>242.864034</td>\n",
       "      <td>rice</td>\n",
       "    </tr>\n",
       "    <tr>\n",
       "      <th>4</th>\n",
       "      <td>20.130175</td>\n",
       "      <td>81.604873</td>\n",
       "      <td>7.628473</td>\n",
       "      <td>262.717340</td>\n",
       "      <td>rice</td>\n",
       "    </tr>\n",
       "    <tr>\n",
       "      <th>...</th>\n",
       "      <td>...</td>\n",
       "      <td>...</td>\n",
       "      <td>...</td>\n",
       "      <td>...</td>\n",
       "      <td>...</td>\n",
       "    </tr>\n",
       "    <tr>\n",
       "      <th>3095</th>\n",
       "      <td>25.287846</td>\n",
       "      <td>89.636679</td>\n",
       "      <td>6.765095</td>\n",
       "      <td>58.286977</td>\n",
       "      <td>watermelon</td>\n",
       "    </tr>\n",
       "    <tr>\n",
       "      <th>3096</th>\n",
       "      <td>26.638386</td>\n",
       "      <td>84.695469</td>\n",
       "      <td>6.189214</td>\n",
       "      <td>48.324286</td>\n",
       "      <td>watermelon</td>\n",
       "    </tr>\n",
       "    <tr>\n",
       "      <th>3097</th>\n",
       "      <td>25.331045</td>\n",
       "      <td>84.305338</td>\n",
       "      <td>6.904242</td>\n",
       "      <td>41.532187</td>\n",
       "      <td>watermelon</td>\n",
       "    </tr>\n",
       "    <tr>\n",
       "      <th>3098</th>\n",
       "      <td>26.897502</td>\n",
       "      <td>83.892415</td>\n",
       "      <td>6.463271</td>\n",
       "      <td>43.971937</td>\n",
       "      <td>watermelon</td>\n",
       "    </tr>\n",
       "    <tr>\n",
       "      <th>3099</th>\n",
       "      <td>26.986037</td>\n",
       "      <td>89.413849</td>\n",
       "      <td>6.260839</td>\n",
       "      <td>58.548767</td>\n",
       "      <td>watermelon</td>\n",
       "    </tr>\n",
       "  </tbody>\n",
       "</table>\n",
       "<p>3100 rows × 5 columns</p>\n",
       "</div>"
      ],
      "text/plain": [
       "      temperature   humidity        ph    rainfall       label\n",
       "0       20.879744  82.002744  6.502985  202.935536        rice\n",
       "1       21.770462  80.319644  7.038096  226.655537        rice\n",
       "2       23.004459  82.320763  7.840207  263.964248        rice\n",
       "3       26.491096  80.158363  6.980401  242.864034        rice\n",
       "4       20.130175  81.604873  7.628473  262.717340        rice\n",
       "...           ...        ...       ...         ...         ...\n",
       "3095    25.287846  89.636679  6.765095   58.286977  watermelon\n",
       "3096    26.638386  84.695469  6.189214   48.324286  watermelon\n",
       "3097    25.331045  84.305338  6.904242   41.532187  watermelon\n",
       "3098    26.897502  83.892415  6.463271   43.971937  watermelon\n",
       "3099    26.986037  89.413849  6.260839   58.548767  watermelon\n",
       "\n",
       "[3100 rows x 5 columns]"
      ]
     },
     "execution_count": 2,
     "metadata": {},
     "output_type": "execute_result"
    }
   ],
   "source": [
    "db"
   ]
  },
  {
   "cell_type": "code",
   "execution_count": 3,
   "metadata": {},
   "outputs": [
    {
     "data": {
      "text/plain": [
       "temperature    0\n",
       "humidity       0\n",
       "ph             0\n",
       "rainfall       0\n",
       "label          0\n",
       "dtype: int64"
      ]
     },
     "execution_count": 3,
     "metadata": {},
     "output_type": "execute_result"
    }
   ],
   "source": [
    "db.isna().sum()"
   ]
  },
  {
   "cell_type": "code",
   "execution_count": 4,
   "metadata": {},
   "outputs": [
    {
     "data": {
      "text/html": [
       "<div>\n",
       "<style scoped>\n",
       "    .dataframe tbody tr th:only-of-type {\n",
       "        vertical-align: middle;\n",
       "    }\n",
       "\n",
       "    .dataframe tbody tr th {\n",
       "        vertical-align: top;\n",
       "    }\n",
       "\n",
       "    .dataframe thead th {\n",
       "        text-align: right;\n",
       "    }\n",
       "</style>\n",
       "<table border=\"1\" class=\"dataframe\">\n",
       "  <thead>\n",
       "    <tr style=\"text-align: right;\">\n",
       "      <th></th>\n",
       "      <th>temperature</th>\n",
       "      <th>humidity</th>\n",
       "      <th>ph</th>\n",
       "      <th>rainfall</th>\n",
       "      <th>label</th>\n",
       "    </tr>\n",
       "  </thead>\n",
       "  <tbody>\n",
       "    <tr>\n",
       "      <th>0</th>\n",
       "      <td>20.879744</td>\n",
       "      <td>82.002744</td>\n",
       "      <td>6.502985</td>\n",
       "      <td>202.935536</td>\n",
       "      <td>28</td>\n",
       "    </tr>\n",
       "    <tr>\n",
       "      <th>1</th>\n",
       "      <td>21.770462</td>\n",
       "      <td>80.319644</td>\n",
       "      <td>7.038096</td>\n",
       "      <td>226.655537</td>\n",
       "      <td>28</td>\n",
       "    </tr>\n",
       "    <tr>\n",
       "      <th>2</th>\n",
       "      <td>23.004459</td>\n",
       "      <td>82.320763</td>\n",
       "      <td>7.840207</td>\n",
       "      <td>263.964248</td>\n",
       "      <td>28</td>\n",
       "    </tr>\n",
       "    <tr>\n",
       "      <th>3</th>\n",
       "      <td>26.491096</td>\n",
       "      <td>80.158363</td>\n",
       "      <td>6.980401</td>\n",
       "      <td>242.864034</td>\n",
       "      <td>28</td>\n",
       "    </tr>\n",
       "    <tr>\n",
       "      <th>4</th>\n",
       "      <td>20.130175</td>\n",
       "      <td>81.604873</td>\n",
       "      <td>7.628473</td>\n",
       "      <td>262.717340</td>\n",
       "      <td>28</td>\n",
       "    </tr>\n",
       "    <tr>\n",
       "      <th>...</th>\n",
       "      <td>...</td>\n",
       "      <td>...</td>\n",
       "      <td>...</td>\n",
       "      <td>...</td>\n",
       "      <td>...</td>\n",
       "    </tr>\n",
       "    <tr>\n",
       "      <th>3095</th>\n",
       "      <td>25.287846</td>\n",
       "      <td>89.636679</td>\n",
       "      <td>6.765095</td>\n",
       "      <td>58.286977</td>\n",
       "      <td>29</td>\n",
       "    </tr>\n",
       "    <tr>\n",
       "      <th>3096</th>\n",
       "      <td>26.638386</td>\n",
       "      <td>84.695469</td>\n",
       "      <td>6.189214</td>\n",
       "      <td>48.324286</td>\n",
       "      <td>29</td>\n",
       "    </tr>\n",
       "    <tr>\n",
       "      <th>3097</th>\n",
       "      <td>25.331045</td>\n",
       "      <td>84.305338</td>\n",
       "      <td>6.904242</td>\n",
       "      <td>41.532187</td>\n",
       "      <td>29</td>\n",
       "    </tr>\n",
       "    <tr>\n",
       "      <th>3098</th>\n",
       "      <td>26.897502</td>\n",
       "      <td>83.892415</td>\n",
       "      <td>6.463271</td>\n",
       "      <td>43.971937</td>\n",
       "      <td>29</td>\n",
       "    </tr>\n",
       "    <tr>\n",
       "      <th>3099</th>\n",
       "      <td>26.986037</td>\n",
       "      <td>89.413849</td>\n",
       "      <td>6.260839</td>\n",
       "      <td>58.548767</td>\n",
       "      <td>29</td>\n",
       "    </tr>\n",
       "  </tbody>\n",
       "</table>\n",
       "<p>3100 rows × 5 columns</p>\n",
       "</div>"
      ],
      "text/plain": [
       "      temperature   humidity        ph    rainfall  label\n",
       "0       20.879744  82.002744  6.502985  202.935536     28\n",
       "1       21.770462  80.319644  7.038096  226.655537     28\n",
       "2       23.004459  82.320763  7.840207  263.964248     28\n",
       "3       26.491096  80.158363  6.980401  242.864034     28\n",
       "4       20.130175  81.604873  7.628473  262.717340     28\n",
       "...           ...        ...       ...         ...    ...\n",
       "3095    25.287846  89.636679  6.765095   58.286977     29\n",
       "3096    26.638386  84.695469  6.189214   48.324286     29\n",
       "3097    25.331045  84.305338  6.904242   41.532187     29\n",
       "3098    26.897502  83.892415  6.463271   43.971937     29\n",
       "3099    26.986037  89.413849  6.260839   58.548767     29\n",
       "\n",
       "[3100 rows x 5 columns]"
      ]
     },
     "execution_count": 4,
     "metadata": {},
     "output_type": "execute_result"
    }
   ],
   "source": [
    "# categorical encoding\n",
    "from sklearn.preprocessing import LabelEncoder\n",
    "\n",
    "le = LabelEncoder()\n",
    "\n",
    "db['label'] = le.fit_transform(db['label'])  # Convert label to numerical value\n",
    "\n",
    "db"
   ]
  },
  {
   "cell_type": "code",
   "execution_count": 5,
   "metadata": {},
   "outputs": [
    {
     "data": {
      "text/plain": [
       "<Axes: >"
      ]
     },
     "execution_count": 5,
     "metadata": {},
     "output_type": "execute_result"
    },
    {
     "data": {
      "image/png": "[encoded data removed]",
      "text/plain": [
       "<Figure size 640x480 with 2 Axes>"
      ]
     },
     "metadata": {},
     "output_type": "display_data"
    }
   ],
   "source": [
    "# heatmap\n",
    "import seaborn as sns\n",
    "\n",
    "sns.heatmap(db.corr(), annot=True)"
   ]
  },
  {
   "cell_type": "code",
   "execution_count": 6,
   "metadata": {},
   "outputs": [
    {
     "name": "stdout",
     "output_type": "stream",
     "text": [
      "Train data shape:  (2480, 4)\n",
      "Test data shape:  (620, 4)\n"
     ]
    }
   ],
   "source": [
    "# test train split\n",
    "\n",
    "from sklearn.model_selection import train_test_split\n",
    "\n",
    "X = db.drop('label', axis=1)\n",
    "y = db['label']\n",
    "\n",
    "X_train, X_test, y_train, y_test = train_test_split(X, y, test_size=0.2, random_state=42)\n",
    "print(\"Train data shape: \", X_train.shape)\n",
    "print(\"Test data shape: \", X_test.shape)"
   ]
  },
  {
   "cell_type": "code",
   "execution_count": 7,
   "metadata": {},
   "outputs": [
    {
     "name": "stdout",
     "output_type": "stream",
     "text": [
      "Accuracy:  0.9193548387096774\n"
     ]
    }
   ],
   "source": [
    "# Decision Tree Classifier\n",
    "\n",
    "from sklearn.tree import DecisionTreeClassifier\n",
    "\n",
    "dtc = DecisionTreeClassifier()\n",
    "\n",
    "dtc.fit(X_train, y_train)\n",
    "\n",
    "# Predicting the test set results\n",
    "y_pred = dtc.predict(X_test)\n",
    "\n",
    "from sklearn.metrics import accuracy_score\n",
    "\n",
    "accuracy = accuracy_score(y_test, y_pred)\n",
    "\n",
    "print(\"Accuracy: \", accuracy)"
   ]
  },
  {
   "cell_type": "code",
   "execution_count": 8,
   "metadata": {},
   "outputs": [
    {
     "name": "stdout",
     "output_type": "stream",
     "text": [
      "Accuracy:  0.9516129032258065\n"
     ]
    }
   ],
   "source": [
    "# Random Forest Classifier\n",
    "\n",
    "from sklearn.ensemble import RandomForestClassifier\n",
    "\n",
    "rfc = RandomForestClassifier()\n",
    "\n",
    "# Fit the model to the training\n",
    "rfc.fit(X_train, y_train)\n",
    "\n",
    "# Predicting the test set results\n",
    "y_pred_rfc = rfc.predict(X_test)\n",
    "\n",
    "from sklearn.metrics import accuracy_score\n",
    "\n",
    "accuracy = accuracy_score(y_test, y_pred_rfc)\n",
    "\n",
    "print(\"Accuracy: \", accuracy)"
   ]
  },
  {
   "cell_type": "code",
   "execution_count": 9,
   "metadata": {},
   "outputs": [
    {
     "name": "stdout",
     "output_type": "stream",
     "text": [
      "      Actual  Predicted\n",
      "718        7         15\n",
      "2953      27         25\n",
      "1805       1          1\n",
      "1612      10         10\n",
      "1190      12         12\n",
      "      Actual  Predicted\n",
      "718        7         15\n",
      "2953      27         25\n",
      "1805       1          1\n",
      "1612      10         10\n",
      "1190      12         12\n"
     ]
    },
    {
     "data": {
      "image/png": "[encoded data removed]",
      "text/plain": [
       "<Figure size 1000x500 with 2 Axes>"
      ]
     },
     "metadata": {},
     "output_type": "display_data"
    },
    {
     "name": "stdout",
     "output_type": "stream",
     "text": [
      "\n",
      "Accuracy of Random Forest Classifier: 95.16%\n",
      "\n",
      "Accuracy of Decision Tree Classifier: 91.94%\n",
      "\n",
      "F1 Score of Random Forest Classifier: 0.95\n",
      "\n",
      "F1 Score of Decision Tree Classifier: 0.92\n",
      "\n",
      "Random Forest Classifier is better than Decision Tree Classifier\n"
     ]
    }
   ],
   "source": [
    "y_pred_rfc = rfc.predict(X_test)\n",
    "df1 = pd.DataFrame({'Actual': y_test, 'Predicted': y_pred_rfc})\n",
    "print(df1.head())\n",
    "\n",
    "y_pred_dtc = dtc.predict(X_test)\n",
    "df2 = pd.DataFrame({'Actual': y_test, 'Predicted': y_pred_dtc})\n",
    "print(df2.head())\n",
    "\n",
    "# plot df1 and df2 comparision chart\n",
    "\n",
    "import matplotlib.pyplot as plt\n",
    "\n",
    "plt.figure(figsize=(10, 5))\n",
    "\n",
    "plt.subplot(1, 2, 1)\n",
    "plt.scatter(y_test, y_pred_rfc)\n",
    "plt.xlabel('Y Test')\n",
    "plt.ylabel('Y Predicted')\n",
    "plt.title('RFC Scatter Plot')\n",
    "plt.subplot(1, 2, 2)\n",
    "plt.scatter(y_test, y_pred_dtc)\n",
    "plt.xlabel('Y Test')\n",
    "plt.title('DTC Scatter Plot')\n",
    "plt.ylabel('Y Predicted')\n",
    "plt.tight_layout()\n",
    "plt.show()\n",
    "\n",
    "# plot df1 and df2 comparision chart\n",
    "from sklearn.metrics import confusion_matrix\n",
    "cm = confusion_matrix(y_test, y_pred_rfc)\n",
    "# print(\"Confusion Matrix for RFC: \\n\", cm)\n",
    "\n",
    "cm = confusion_matrix(y_test, y_pred_dtc)\n",
    "# print(\"Confusion Matrix for DTC: \\n\", cm)\n",
    "\n",
    "# calculate accuracy score of both models\n",
    "acc_rfc = rfc.score(X_test, y_test) * 100\n",
    "print(\"\\nAccuracy of Random Forest Classifier: {:.2f}%\".format(acc_rfc))\n",
    "\n",
    "acc_dtc = dtc.score(X_test, y_test) * 100\n",
    "print(\"\\nAccuracy of Decision Tree Classifier: {:.2f}%\".format(acc_dtc))\n",
    "\n",
    "# compare the performance of both models using F1-Score\n",
    "from sklearn.metrics import f1_score\n",
    "F1_rfc = f1_score(y_test, y_pred_rfc, average='weighted')\n",
    "F1_dtc = f1_score(y_test, y_pred_dtc, average='weighted')\n",
    "\n",
    "print('\\nF1 Score of Random Forest Classifier: {:.2f}'.format(F1_rfc))\n",
    "print('\\nF1 Score of Decision Tree Classifier: {:.2f}'.format(F1_dtc))\n",
    "\n",
    "if (F1_rfc >= F1_dtc):\n",
    "    print(\"\\nRandom Forest Classifier is better than Decision Tree Classifier\")\n",
    "else:\n",
    "    print(\"\\nDecision Tree Classifier is better than Random Forest Classifier\")"
   ]
  },
  {
   "cell_type": "markdown",
   "metadata": {},
   "source": [
    "<h1>Random Forest Classification</h1>"
   ]
  },
  {
   "cell_type": "code",
   "execution_count": 10,
   "metadata": {},
   "outputs": [
    {
     "name": "stdout",
     "output_type": "stream",
     "text": [
      "millet\n"
     ]
    }
   ],
   "source": [
    "df_temp = pd.DataFrame([[49.87673602,15.49100816,6.912345828,39.40150564]], columns=['temperature', 'humidity', 'ph', 'rainfall'])\n",
    "print(le.inverse_transform(rfc.predict(df_temp))[0])"
   ]
  },
  {
   "cell_type": "markdown",
   "metadata": {},
   "source": [
    "<h1>Decision Tree Classification</h1>"
   ]
  },
  {
   "cell_type": "code",
   "execution_count": 11,
   "metadata": {},
   "outputs": [
    {
     "name": "stdout",
     "output_type": "stream",
     "text": [
      "millet\n"
     ]
    }
   ],
   "source": [
    "df_temp = pd.DataFrame([[49.87673602,15.49100816,6.912345828,39.40150564]], columns=['temperature', 'humidity', 'ph', 'rainfall'])\n",
    "print(le.inverse_transform(dtc.predict(df_temp))[0])"
   ]
  },
  {
   "cell_type": "code",
   "execution_count": 12,
   "metadata": {},
   "outputs": [
    {
     "data": {
      "text/plain": [
       "(25, 65, 10, 186)"
      ]
     },
     "execution_count": 12,
     "metadata": {},
     "output_type": "execute_result"
    }
   ],
   "source": [
    "23.654521,60.5456131,9,190\n",
    "25,65,10,186"
   ]
  },
  {
   "cell_type": "code",
   "execution_count": 13,
   "metadata": {},
   "outputs": [
    {
     "name": "stdout",
     "output_type": "stream",
     "text": [
      "Model saved\n"
     ]
    }
   ],
   "source": [
    "#save the model\n",
    "\n",
    "import pickle\n",
    "\n",
    "pickle.dump(rfc, open('model.pkl', 'wb'))\n",
    "\n",
    "print(\"Model saved\")\n",
    "\n"
   ]
  },
  {
   "cell_type": "markdown",
   "metadata": {},
   "source": [
    "<h2>Readings from Arduino</h2>"
   ]
  },
  {
   "cell_type": "code",
   "execution_count": 14,
   "metadata": {},
   "outputs": [
    {
     "name": "stdout",
     "output_type": "stream",
     "text": [
      "[29.9, 83.0, 977.0]\n"
     ]
    }
   ],
   "source": [
    "#get temperature and humidity values from ardiuno and predict\n",
    "\n",
    "import serial\n",
    "import time\n",
    "\n",
    "ser = serial.Serial('COM7', 9600)\n",
    "time.sleep(2)\n",
    "q=[]\n",
    "\n",
    "while True:\n",
    "    for i in range(3):\n",
    "        line = ser.readline().decode('utf-8').rstrip()\n",
    "        q.append(float(line))\n",
    "    break   \n",
    "print(q)\n"
   ]
  },
  {
   "cell_type": "markdown",
   "metadata": {},
   "source": [
    "<h2>Random Forest Classifier</h2>"
   ]
  },
  {
   "cell_type": "code",
   "execution_count": 15,
   "metadata": {},
   "outputs": [
    {
     "name": "stdout",
     "output_type": "stream",
     "text": [
      "Mung Bean\n"
     ]
    }
   ],
   "source": [
    "df_temp = pd.DataFrame([[q[0],q[1],6.912345828,39.40150564]], columns=['temperature', 'humidity', 'ph', 'rainfall'])\n",
    "print(le.inverse_transform(rfc.predict(df_temp))[0])"
   ]
  },
  {
   "cell_type": "code",
   "execution_count": 16,
   "metadata": {},
   "outputs": [
    {
     "name": "stdout",
     "output_type": "stream",
     "text": [
      "Cotton\n"
     ]
    }
   ],
   "source": [
    "df_temp = pd.DataFrame([[q[0],q[1],7.4656561,60.5611123]], columns=['temperature', 'humidity', 'ph', 'rainfall'])\n",
    "print(le.inverse_transform(rfc.predict(df_temp))[0])"
   ]
  }
 ],
 "metadata": {
  "kernelspec": {
   "display_name": "Python 3",
   "language": "python",
   "name": "python3"
  },
  "language_info": {
   "codemirror_mode": {
    "name": "ipython",
    "version": 3
   },
   "file_extension": ".py",
   "mimetype": "text/x-python",
   "name": "python",
   "nbconvert_exporter": "python",
   "pygments_lexer": "ipython3",
   "version": "3.8.10"
  }
 },
 "nbformat": 4,
 "nbformat_minor": 2
}
